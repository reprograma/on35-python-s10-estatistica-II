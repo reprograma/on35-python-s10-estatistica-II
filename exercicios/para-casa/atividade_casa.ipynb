{
 "cells": [
  {
   "cell_type": "markdown",
   "metadata": {},
   "source": [
    "# Exercício de Casa 🏠 \n",
    "\n",
    "## Teste de Hipótese\n",
    "\n",
    "Coletar a altura média de cada uma das alunas, excluindo as alturas da\n",
    " Professora, Facilitaroa e Monitora.\n",
    "\n",
    "**Exercício: Teste z para Altura Média da Turma**\n",
    "\n",
    "**Cenário:**\n",
    "\n",
    "Queremos avaliar se a altura média da turma on35 é significativamente diferente da altura média nacional da população feminina brasileira, que é de 161 cm. \n",
    "\n",
    "**Objetivo:**\n",
    "\n",
    "    Verificar se a altura média da turma é significativamente diferente de 161 cm.\n",
    "\n",
    "**Dados da Amostra:**\n",
    "\n",
    "    Altura da turma (em cm): [165, 157, 163, 170, 167, 161,160, 170,157, 160, 157, 168, 162, 170, 167, 165, 166, 158, 174, 169, 163, 174, 162, 170, 155, 154, 158, 160, 166, 160]\n",
    "\n",
    "**Perguntas:**\n",
    "\n",
    "\n",
    "Calcule a estatística *z* e o valor *p* para verificar se a altura média da turma é significativamente diferente de 161 cm.\n",
    "\n",
    "**Interprete os resultados:** Preciso saber se rejeitou ou não a hipótese nula."
   ]
  },
  {
   "cell_type": "markdown",
   "metadata": {},
   "source": [
    "A hipótese nula (H₀) é a afirmação de que a turma ON35 tem a altura significativamente diferente da media nacional feminina brasileira, que é de 161 cm.\n",
    "\n",
    "A hipótese alternativa (H₁) é a afirmação de que a turma tem a altura média de 161 cm."
   ]
  },
  {
   "cell_type": "code",
   "execution_count": 11,
   "metadata": {},
   "outputs": [
    {
     "name": "stdout",
     "output_type": "stream",
     "text": [
      "Amostra: [165 157 163 170 167 161 160 170 157 160 157 168 162 170 167 165 166 158\n",
      " 174 169 163 174 162 170 155 154 158 160 166 160]\n",
      "Valor Referência: 161\n"
     ]
    }
   ],
   "source": [
    "from statsmodels.stats.weightstats import ztest\n",
    "import numpy as np\n",
    "\n",
    "amostra = np.array([165, 157, 163, 170, 167, 161,160, 170,157, 160, 157, 168, 162, 170, 167, 165, 166, 158, 174, 169, 163, 174, 162, 170, 155, 154, 158, 160, 166, 160])\n",
    "valor_referencia = 161\n",
    "\n",
    "print(f\"Amostra: {amostra}\")\n",
    "print(f\"Valor Referência: {valor_referencia}\")"
   ]
  },
  {
   "cell_type": "code",
   "execution_count": 12,
   "metadata": {},
   "outputs": [
    {
     "name": "stdout",
     "output_type": "stream",
     "text": [
      "Teste z para uma amostra:\n",
      "z-statistic: 2.5689, p-value: 0.0102\n"
     ]
    }
   ],
   "source": [
    "z_statistic, p_value = ztest(amostra, value=valor_referencia)\n",
    "print(\"Teste z para uma amostra:\")\n",
    "print(f\"z-statistic: {z_statistic:.4f}, p-value: {p_value:.4f}\")"
   ]
  },
  {
   "cell_type": "code",
   "execution_count": 13,
   "metadata": {},
   "outputs": [
    {
     "name": "stdout",
     "output_type": "stream",
     "text": [
      "Altura méedia: 163.6\n"
     ]
    }
   ],
   "source": [
    "media_amostra= amostra.mean()\n",
    "print(f\"Altura méedia: {media_amostra}\")\n"
   ]
  },
  {
   "cell_type": "markdown",
   "metadata": {},
   "source": [
    "**Conclusao:** Como o valor p é menor que 0.05, rejeitamos a hipótese nula. Há evidência estatisticamente significativa para afirmar que a altura média da turma é diferente da altura média nacional de 161 cm."
   ]
  }
 ],
 "metadata": {
  "kernelspec": {
   "display_name": "Python 3",
   "language": "python",
   "name": "python3"
  },
  "language_info": {
   "codemirror_mode": {
    "name": "ipython",
    "version": 3
   },
   "file_extension": ".py",
   "mimetype": "text/x-python",
   "name": "python",
   "nbconvert_exporter": "python",
   "pygments_lexer": "ipython3",
   "version": "3.12.3"
  }
 },
 "nbformat": 4,
 "nbformat_minor": 2
}
