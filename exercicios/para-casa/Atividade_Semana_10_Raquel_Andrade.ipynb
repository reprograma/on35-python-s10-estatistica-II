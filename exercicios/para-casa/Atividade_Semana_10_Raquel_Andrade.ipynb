{
  "nbformat": 4,
  "nbformat_minor": 0,
  "metadata": {
    "colab": {
      "provenance": []
    },
    "kernelspec": {
      "name": "python3",
      "display_name": "Python 3"
    },
    "language_info": {
      "name": "python"
    }
  },
  "cells": [
    {
      "cell_type": "code",
      "execution_count": null,
      "metadata": {
        "id": "CVGF02ufm7xv"
      },
      "outputs": [],
      "source": [
        "import numpy as np\n",
        "from scipy import stats\n",
        "\n",
        "\n",
        "alturas_turma = np.array([157, 160, 157, 163, 170, 167, 174, 160, 169, 158, 161, 168, 162, 167, 167, 165, 170, 170])\n",
        "\n",
        "media_populacional = 161"
      ]
    },
    {
      "cell_type": "code",
      "source": [
        "media_alturas_turma = np.mean(alturas_turma)\n",
        "desvio_padrao_alturas_turma = np.std(alturas_turma, ddof=1)\n",
        "n = len(alturas_turma)\n",
        "\n",
        "z = (media_alturas_turma - media_populacional) / (desvio_padrao_alturas_turma / np.sqrt(n))\n",
        "\n",
        "p = 2 * (1 - stats.norm.cdf(abs(z)))"
      ],
      "metadata": {
        "id": "tMMDb4HzoDXY"
      },
      "execution_count": null,
      "outputs": []
    },
    {
      "cell_type": "code",
      "source": [
        "print(f'Estatística z: {z:.2f}')\n",
        "print(f'Valor p: {p:.2f}')\n",
        "\n",
        "significancia = 0.05\n",
        "if p < significancia:\n",
        "    print(\"Hipotése nula rejeitada, a altura média da turma é significativamente diferente de 161 cm.\")\n",
        "else:\n",
        "    print(\"Hipotése nula aceita, a altura média da turma não é significativamente diferente de 161 cm.\")"
      ],
      "metadata": {
        "colab": {
          "base_uri": "https://localhost:8080/"
        },
        "id": "8eidjdYpoDFw",
        "outputId": "65a31ebe-5cf8-433a-8169-82699b08b978"
      },
      "execution_count": null,
      "outputs": [
        {
          "output_type": "stream",
          "name": "stdout",
          "text": [
            "Estatística z: 3.08\n",
            "Valor p: 0.00\n",
            "Hipotése nula rejeitada, a altura média da turma é significativamente diferente de 161 cm.\n"
          ]
        }
      ]
    }
  ]
}