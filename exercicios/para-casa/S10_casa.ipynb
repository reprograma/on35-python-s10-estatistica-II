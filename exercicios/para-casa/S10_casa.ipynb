{
 "cells": [
  {
   "cell_type": "code",
   "execution_count": null,
   "metadata": {},
   "outputs": [],
   "source": [
    "# Exercício de Casa 🏠 \n",
    "\n",
    "## Teste de Hipótese\n",
    "\n",
    "Coletar a altura média de cada uma das alunas, excluindo as alturas da\n",
    " Professora, Facilitaroa e Monitora.\n",
    "\n",
    "**Exercício: Teste z para Altura Média da Turma**\n",
    "\n",
    "**Cenário:**\n",
    "\n",
    "Queremos avaliar se a altura média da turma on35 é significativamente diferente da altura média nacional da população feminina brasileira, que é de 160 cm. \n",
    "\n",
    "**Objetivo:**\n",
    "\n",
    "    Verificar se a altura média da turma é significativamente diferente de 160 cm.\n",
    "\n",
    "**Dados da Amostra:**\n",
    "\n",
    "    Altura da turma (em cm): [165,157,163,170,167,161,160,170,157,160,157,168,162,170,167,165,166,158,174,169,163,174,162,170,155,154,158,160,166]\n",
    "\n",
    "\n",
    "**Perguntas:**\n",
    "\n",
    "\n",
    "Calcule a estatística *z* e o valor *p* para verificar se a altura média da turma é significativamente diferente de 160 cm.\n",
    "\n",
    "**Interprete os resultados:** Preciso saber se rejeitou ou não a hipótese nula.\n",
    "---"
   ]
  },
  {
   "cell_type": "code",
   "execution_count": 1,
   "metadata": {},
   "outputs": [],
   "source": [
    "import numpy as np\n",
    "from statsmodels.stats.weightstats import ztest"
   ]
  },
  {
   "cell_type": "code",
   "execution_count": 3,
   "metadata": {},
   "outputs": [
    {
     "name": "stdout",
     "output_type": "stream",
     "text": [
      "z-statistic: 3.5819\n",
      "p-value:0.0003 \n",
      "Rejeitamos a hipótese nula\n"
     ]
    }
   ],
   "source": [
    "#Nível de significância\n",
    "ns = 0.05\n",
    "\n",
    "\n",
    "# Dados da amostra\n",
    "altura_turma = np.array([165,157,163,170,167,161,160,170,157,160,157,168,162,170,167,165,166,158,174,169,163,174,162,170,155,154,158,160,166])\n",
    "media_nacional = 160\n",
    "media_alunas = int(np.mean(altura_turma))\n",
    "# Teste z para uma amostra\n",
    "z_statistic, p_value = ztest(altura_turma, value=media_nacional)\n",
    "\n",
    "\n",
    "print(f\"z-statistic: {z_statistic:.4f}\")\n",
    "print(f\"p-value:{p_value:.4f} \")\n",
    "\n",
    "\n",
    "if p_value < ns:\n",
    "    print(\"Rejeitamos a hipótese nula\")\n",
    "else:\n",
    "    print(\"Não rejeitamos a hipótese nula\")"
   ]
  },
  {
   "cell_type": "markdown",
   "metadata": {},
   "source": [
    "*Conclusão:*\n",
    "\n",
    "Nível de significância usado no testes estatísticos foi 0.05 (ou 5%), e o p-value é de (0.0088) que é menor que 0.05 portanto, rejeitamos a hipótese nula.\n",
    "\n",
    "*Interpretação Final:*\n",
    "\n",
    "A altura média da turma On35 é significativamente diferente da média nacional de 160cm. Sendo assim, rejeitamos H0(hipótese nula), com nível de significância de 0,05, comprovando que há evidências estatisticamernte significativas que a média da turma difere da média nacional.\n"
   ]
  }
 ],
 "metadata": {
  "kernelspec": {
   "display_name": "Python 3",
   "language": "python",
   "name": "python3"
  },
  "language_info": {
   "codemirror_mode": {
    "name": "ipython",
    "version": 3
   },
   "file_extension": ".py",
   "mimetype": "text/x-python",
   "name": "python",
   "nbconvert_exporter": "python",
   "pygments_lexer": "ipython3",
   "version": "3.12.7"
  }
 },
 "nbformat": 4,
 "nbformat_minor": 2
}
