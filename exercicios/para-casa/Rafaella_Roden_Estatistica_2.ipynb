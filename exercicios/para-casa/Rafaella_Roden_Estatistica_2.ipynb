{
  "nbformat": 4,
  "nbformat_minor": 0,
  "metadata": {
    "colab": {
      "provenance": []
    },
    "kernelspec": {
      "name": "python3",
      "display_name": "Python 3"
    },
    "language_info": {
      "name": "python"
    }
  },
  "cells": [
    {
      "cell_type": "markdown",
      "source": [
        "# Exercício de Casa 🏠\n",
        "\n",
        "## Teste de Hipótese\n",
        "\n",
        "Coletar a altura média de cada uma das alunas, excluindo as alturas da\n",
        " Professora, Facilitaroa e Monitora.\n",
        "\n",
        "**Exercício: Teste z para Altura Média da Turma**\n",
        "\n",
        "**Cenário:**\n",
        "\n",
        "Queremos avaliar se a altura média da turma on35 é significativamente diferente da altura média nacional da população feminina brasileira, que é de 160 cm.\n",
        "\n",
        "**Objetivo:**\n",
        "\n",
        "    Verificar se a altura média da turma é significativamente diferente de 160 cm.\n",
        "\n",
        "**Dados da Amostra:**\n",
        "\n",
        "    Altura da turma (em cm): vamos criar juntas na aula...\n",
        "\n",
        "\n",
        "**Perguntas:**\n",
        "\n",
        "\n",
        "Calcule a estatística *z* e o valor *p* para verificar se a altura média da turma é significativamente diferente de 160 cm.\n",
        "\n",
        "**Interprete os resultados:** Preciso saber se rejeitou ou não a hipótese nula.\n",
        "---"
      ],
      "metadata": {
        "id": "TSxdhp4KBzaz"
      }
    },
    {
      "cell_type": "code",
      "execution_count": 5,
      "metadata": {
        "colab": {
          "base_uri": "https://localhost:8080/"
        },
        "id": "m7pJDmLIBEHJ",
        "outputId": "03064afd-f398-4102-81e7-51575f398e17"
      },
      "outputs": [
        {
          "output_type": "stream",
          "name": "stdout",
          "text": [
            "Teste z para uma amostra:\n",
            "z-statistic: 2.6201, p-value: 0.0088\n"
          ]
        }
      ],
      "source": [
        "import numpy as np\n",
        "from statsmodels.stats.weightstats import ztest\n",
        "\n",
        "# Dados da amostra\n",
        "altura_turma = np.array([165, 157, 163, 170, 167, 161, 160, 170, 157, 160, 157, 168, 162, 170, 167, 165, 166, 158, 174, 169, 163, 174, 162, 170, 155, 154, 158, 160, 166])\n",
        "media_nacional = 161\n",
        "\n",
        "# Teste z para uma amostra\n",
        "z_statistic, p_value = ztest(altura_turma, value=media_nacional)\n",
        "print(\"Teste z para uma amostra:\")\n",
        "print(f\"z-statistic: {z_statistic:.4f}, p-value: {p_value:.4f}\")\n"
      ]
    },
    {
      "cell_type": "markdown",
      "source": [
        "Se o valor p for menor que 0.05, a altura média da turma é significativamente diferente de 161: cm.\n",
        "\n"
      ],
      "metadata": {
        "id": "bLjJng6gDbbL"
      }
    },
    {
      "cell_type": "markdown",
      "source": [
        "\n",
        "Nesse exemplo, o resultado foi 0,0088 e portanto rejeita a hipotése nula e entendemos que a altura média da sala ON35 é diferente da altura média nacional."
      ],
      "metadata": {
        "id": "eyqpoY4E38SI"
      }
    }
  ]
}