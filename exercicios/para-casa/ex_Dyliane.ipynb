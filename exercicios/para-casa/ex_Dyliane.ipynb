{
 "cells": [
  {
   "cell_type": "markdown",
   "metadata": {},
   "source": [
    "### Objetivo:\n",
    "\n",
    "    Verificar se a altura média da turma é significativamente diferente de 161 cm.\n",
    "\n",
    "**Dados da Amostra:**\n",
    "\n",
    "    Altura da turma (em cm): [165,157,163,170,167,161,160,170,157,160,157,168,162,170,167,165,166,158,174,169,163,174,162,170,155,154,158,160,166]\n",
    "\n",
    "**Perguntas:**\n",
    "\n",
    "\n",
    "Calcule a estatística *z* e o valor *p* para verificar se a altura média da turma é significativamente diferente de 161 cm.\n",
    "\n",
    " H0​: A altura média da turma on 35 é igual à altura média nacional.\n",
    " \n",
    " H1​: A altura média dos alunas da turma é diferente da altura média nacional."
   ]
  },
  {
   "cell_type": "code",
   "execution_count": 3,
   "metadata": {},
   "outputs": [],
   "source": [
    "import numpy as np\n",
    "from statsmodels.stats.weightstats import ztest"
   ]
  },
  {
   "cell_type": "code",
   "execution_count": 8,
   "metadata": {},
   "outputs": [
    {
     "name": "stdout",
     "output_type": "stream",
     "text": [
      "Amostra [165 157 163 170 167 161 160 170 157 160 157 168 162 170 167 165 166 158\n",
      " 174 169 163 174 162 170 155 154 158 160 166]\n",
      "Valor Referência: 161\n"
     ]
    }
   ],
   "source": [
    "# Dados da amostra\n",
    "altura_on35 = np.array([165,157,163,170,167,161,160,170,157,160,157,168,162,170,167,165,166,158,174,169,163,174,162,170,155,154,158,160,166])\n",
    "media_altura_nacional = 161\n",
    "\n",
    "print(f\"Amostra {altura_on35}\")\n",
    "print(f\"Valor Referência: {media_altura_nacional}\")"
   ]
  },
  {
   "cell_type": "code",
   "execution_count": 9,
   "metadata": {},
   "outputs": [
    {
     "name": "stdout",
     "output_type": "stream",
     "text": [
      "Teste z para uma amostra:\n",
      "z-statistic: 2.6201, p-value: 0.0088\n"
     ]
    }
   ],
   "source": [
    "# Teste z para uma amostra\n",
    "z_statistic, p_value = ztest(altura_on35, value=media_altura_nacional)\n",
    "print(\"Teste z para uma amostra:\")\n",
    "print(f\"z-statistic: {z_statistic:.4f}, p-value: {p_value:.4f}\")"
   ]
  },
  {
   "cell_type": "markdown",
   "metadata": {},
   "source": [
    "Uma vez que p-value é menor que 0.05, rejeitamos a hipótese nula. Isso significa que há evidência estatisticamente significativa para afirmar que a média das alturas da turma on35 difere da média nacional da altura das mulheres."
   ]
  }
 ],
 "metadata": {
  "kernelspec": {
   "display_name": "Python 3",
   "language": "python",
   "name": "python3"
  },
  "language_info": {
   "codemirror_mode": {
    "name": "ipython",
    "version": 3
   },
   "file_extension": ".py",
   "mimetype": "text/x-python",
   "name": "python",
   "nbconvert_exporter": "python",
   "pygments_lexer": "ipython3",
   "version": "3.12.3"
  }
 },
 "nbformat": 4,
 "nbformat_minor": 2
}
