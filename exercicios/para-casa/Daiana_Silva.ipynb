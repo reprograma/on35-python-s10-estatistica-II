{
 "cells": [
  {
   "cell_type": "code",
   "execution_count": 7,
   "metadata": {},
   "outputs": [
    {
     "name": "stdout",
     "output_type": "stream",
     "text": [
      "Teste z para uma amostra:\n",
      "z-statistic: 2.5116 \n",
      "p-value: 0.0120\n"
     ]
    }
   ],
   "source": [
    "import numpy as np\n",
    "from statsmodels.stats.weightstats import ztest\n",
    "\n",
    "altura_turma = np.array([165, 157, 163, 170, 167, 161, 160, 170, 157, 160, 157, 168, 162, 170, 167, 165, 166, 158, 174, 169, 163, 174, 162, 170, 155, 154, 158])\n",
    "media_nacional = 161\n",
    "\n",
    "z_statistic, p_value = ztest(altura_turma, value=media_nacional)\n",
    "print(\"Teste z para uma amostra:\")\n",
    "print(f\"z-statistic: {z_statistic:.4f} \\np-value: {p_value:.4f}\")"
   ]
  },
  {
   "cell_type": "markdown",
   "metadata": {},
   "source": [
    "**H0​:** A altura média da turma on35 é igual a altura média nacional.\n",
    "\n",
    "**H1:** A altura média da turma on35 é diferente da altura média nacional.\n",
    "\n",
    "**Conclusão:**\n",
    "\n",
    "O p_value 0.0120, sendo menor que o nível de significância 0.05, sugere que a altura média da turma é significativamente diferente de 161 cm e, portanto, **<u>rejeita-se a hipótese nula (H0)</u>**. Logo, há evidência estatística para afirmar que a altura média da turma é significativamente diferente da altura média nacional feminina de 161 cm."
   ]
  }
 ],
 "metadata": {
  "kernelspec": {
   "display_name": "Python 3",
   "language": "python",
   "name": "python3"
  },
  "language_info": {
   "codemirror_mode": {
    "name": "ipython",
    "version": 3
   },
   "file_extension": ".py",
   "mimetype": "text/x-python",
   "name": "python",
   "nbconvert_exporter": "python",
   "pygments_lexer": "ipython3",
   "version": "3.12.3"
  }
 },
 "nbformat": 4,
 "nbformat_minor": 2
}
