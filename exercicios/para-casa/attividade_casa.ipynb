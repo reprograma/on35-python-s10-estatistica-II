{
 "cells": [
  {
   "cell_type": "code",
   "execution_count": 1,
   "metadata": {},
   "outputs": [],
   "source": [
    "import numpy as np"
   ]
  },
  {
   "cell_type": "code",
   "execution_count": 2,
   "metadata": {},
   "outputs": [],
   "source": [
    "from statsmodels.stats.weightstats import ztest\n"
   ]
  },
  {
   "cell_type": "code",
   "execution_count": 3,
   "metadata": {},
   "outputs": [],
   "source": [
    "nivel_significancia = 0.05\n"
   ]
  },
  {
   "cell_type": "code",
   "execution_count": 4,
   "metadata": {},
   "outputs": [],
   "source": [
    "alturas = np.array([165, 157, 163, 170, 167, 161, 160, 170, 157, 160, \n",
    "                    157, 168, 162, 170, 167, 165, 166, 158, 174, 169, \n",
    "                    163, 174, 162, 170, 155, 154, 158, 160, 166])"
   ]
  },
  {
   "cell_type": "code",
   "execution_count": 5,
   "metadata": {},
   "outputs": [],
   "source": [
    "media_populacao = 161"
   ]
  },
  {
   "cell_type": "code",
   "execution_count": 6,
   "metadata": {},
   "outputs": [],
   "source": [
    "media_amostra = np.mean(alturas)"
   ]
  },
  {
   "cell_type": "code",
   "execution_count": 7,
   "metadata": {},
   "outputs": [],
   "source": [
    "estatistica_z, valor_p = ztest(alturas, value=media_populacao)"
   ]
  },
  {
   "cell_type": "code",
   "execution_count": 8,
   "metadata": {},
   "outputs": [
    {
     "name": "stdout",
     "output_type": "stream",
     "text": [
      "Média da amostra (altura das alunas): 163.72 cm\n",
      "Média da população feminina nacional: 161 cm\n",
      "Estatística z: 2.6201\n",
      "Valor p: 0.0088\n"
     ]
    }
   ],
   "source": [
    "print(f\"Média da amostra (altura das alunas): {media_amostra:.2f} cm\")\n",
    "print(f\"Média da população feminina nacional: {media_populacao} cm\")\n",
    "print(f\"Estatística z: {estatistica_z:.4f}\")\n",
    "print(f\"Valor p: {valor_p:.4f}\")\n"
   ]
  },
  {
   "cell_type": "code",
   "execution_count": 9,
   "metadata": {},
   "outputs": [
    {
     "name": "stdout",
     "output_type": "stream",
     "text": [
      "Hipótese nula rejeitada: A altura média das alunas é significativamente diferente da média nacional.\n"
     ]
    }
   ],
   "source": [
    "if valor_p < nivel_significancia:\n",
    "    print(\"Hipótese nula rejeitada: A altura média das alunas é significativamente diferente da média nacional.\")\n",
    "else:\n",
    "    print(\"Hipótese nula não rejeitada: Não há evidências suficientes para dizer que a altura média das alunas é diferente da média nacional.\")"
   ]
  }
 ],
 "metadata": {
  "kernelspec": {
   "display_name": "Python 3",
   "language": "python",
   "name": "python3"
  },
  "language_info": {
   "codemirror_mode": {
    "name": "ipython",
    "version": 3
   },
   "file_extension": ".py",
   "mimetype": "text/x-python",
   "name": "python",
   "nbconvert_exporter": "python",
   "pygments_lexer": "ipython3",
   "version": "3.12.3"
  }
 },
 "nbformat": 4,
 "nbformat_minor": 2
}
