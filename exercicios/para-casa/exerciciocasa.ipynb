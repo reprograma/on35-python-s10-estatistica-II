{
 "cells": [
  {
   "cell_type": "code",
   "execution_count": 1,
   "metadata": {},
   "outputs": [
    {
     "name": "stdout",
     "output_type": "stream",
     "text": [
      "Teste z para uma amostra:\n",
      "z-statistic: 3.6698, p-value: 0.0002\n"
     ]
    }
   ],
   "source": [
    "import numpy as np\n",
    "from statsmodels.stats.weightstats import ztest\n",
    "\n",
    "# Dados da amostra\n",
    "altura_turma = np.array([165, 157, 163, 170, 167, 161, 160, 170, 157, 158, 168, \n",
    "162, 170, 167, 165, 166, 158, 174, 169, 163, 174, 162, 170, 155, 154, 158, 160, 166 ])\n",
    "media_nacional = 160\n",
    "\n",
    "# Teste z para uma amostra\n",
    "z_statistic, p_value = ztest(altura_turma, value=media_nacional)\n",
    "print(\"Teste z para uma amostra:\")\n",
    "print(f\"z-statistic: {z_statistic:.4f}, p-value: {p_value:.4f}\")"
   ]
  },
  {
   "cell_type": "markdown",
   "metadata": {},
   "source": [
    "Interpretação Final:\n",
    "\n",
    "A nível de significancia de 5%, rejeitamos a hipótese nula de que a amostra da altura média da turma é significativamente diferente de 160 cm. Em outras palavras, há evidências estatisticamente significativas para afirmar que a altura média da turma é diferente da altura média nacional de 160 cm."
   ]
  }
 ],
 "metadata": {
  "kernelspec": {
   "display_name": "Python (meu_kernel)",
   "language": "python",
   "name": "meu_kernel"
  },
  "language_info": {
   "codemirror_mode": {
    "name": "ipython",
    "version": 3
   },
   "file_extension": ".py",
   "mimetype": "text/x-python",
   "name": "python",
   "nbconvert_exporter": "python",
   "pygments_lexer": "ipython3",
   "version": "3.12.3"
  }
 },
 "nbformat": 4,
 "nbformat_minor": 2
}
