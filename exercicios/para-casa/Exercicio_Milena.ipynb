{
 "cells": [
  {
   "cell_type": "markdown",
   "metadata": {},
   "source": [
    "**Queremos avaliar se a altura média da turma on35 é significativamente diferente da altura média nacional da população feminina brasileira, que é de 160 cm.**\n"
   ]
  },
  {
   "cell_type": "markdown",
   "metadata": {},
   "source": [
    "**Hipótese Nula (H0):**\n",
    "\n",
    "Supõe que não há diferença entre a média da amostra e a média da população (160 cm). A média da altura dos alunos da turma é 160 cm.\n",
    "\n",
    "**Hipótese Alternativa (H1):**\n",
    "\n",
    "Sugere que há uma diferença entre a média da amostra e a média da população. A média da altura dos alunos da turma não é 160 cm."
   ]
  },
  {
   "cell_type": "code",
   "execution_count": 9,
   "metadata": {},
   "outputs": [],
   "source": [
    "import numpy as np\n",
    "from statsmodels.stats.weightstats import ztest\n",
    "\n",
    "# Dados da amostra\n",
    "altura_turma = np.array([165, 157, 163, 170, 167, 161, 160, 170, 157, 160, 157, 168, 162, 170, 167, 165, 166, 158, 174, 169, 158, 174, 169, 163, 174, 162, 170, 155, 154, 158, 160, 166])\n",
    "media_nacional = 161\n",
    "alfa = 0.05"
   ]
  },
  {
   "cell_type": "code",
   "execution_count": 10,
   "metadata": {},
   "outputs": [
    {
     "name": "stdout",
     "output_type": "stream",
     "text": [
      "Teste z para uma amostra:\n",
      "z-statistic: 2.9591, p-value: 0.0031\n"
     ]
    }
   ],
   "source": [
    "# Teste z para uma amostra\n",
    "z_statistic, p_value = ztest(altura_turma, value=media_nacional)\n",
    "print(\"Teste z para uma amostra:\")\n",
    "print(f\"z-statistic: {z_statistic:.4f}, p-value: {p_value:.4f}\")\n"
   ]
  },
  {
   "cell_type": "code",
   "execution_count": 11,
   "metadata": {},
   "outputs": [
    {
     "name": "stdout",
     "output_type": "stream",
     "text": [
      "Rejeitamos a hipótese nula. Há evidências de que a altura média da turma é diferente de 161 cm.\n"
     ]
    }
   ],
   "source": [
    "# Interprete os resultados: Preciso saber se rejeitou ou não a hipótese nula.\n",
    "if p_value < alfa:\n",
    "    print(\"Rejeitamos a hipótese nula. Há evidências de que a altura média da turma é diferente de 161 cm.\")\n",
    "else:\n",
    "    print(\"Não rejeitamos a hipótese nula. Não há evidências de que a altura média da turma é diferente de 161 cm.\")"
   ]
  }
 ],
 "metadata": {
  "kernelspec": {
   "display_name": "Python 3",
   "language": "python",
   "name": "python3"
  },
  "language_info": {
   "codemirror_mode": {
    "name": "ipython",
    "version": 3
   },
   "file_extension": ".py",
   "mimetype": "text/x-python",
   "name": "python",
   "nbconvert_exporter": "python",
   "pygments_lexer": "ipython3",
   "version": "3.10.0"
  }
 },
 "nbformat": 4,
 "nbformat_minor": 2
}
