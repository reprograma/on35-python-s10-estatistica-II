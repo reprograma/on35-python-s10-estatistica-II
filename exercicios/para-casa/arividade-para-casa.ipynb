{
 "cells": [
  {
   "cell_type": "markdown",
   "metadata": {},
   "source": [
    "**Exercício de Casa 🏠 Teste de Hipótese**\n",
    "\n",
    "**Professora Débora**\n",
    "\n",
    "**Cenário:**\n",
    "\n",
    "Queremos avaliar se a altura média da turma on35 é significativamente diferente da altura média nacional da população feminina brasileira, que é de 160 cm. \n",
    "\n",
    "**Objetivo:**\n",
    "\n",
    "    Verificar se a altura média da turma é significativamente diferente de 160 cm.\n",
    "\n",
    "**Dados da Amostra:**\n",
    "\n",
    "    Altura da turma (em cm)."
   ]
  },
  {
   "cell_type": "markdown",
   "metadata": {},
   "source": [
    "1) Coletar a altura média de cada uma das alunas, excluindo as alturas da Professora, Facilitadora e Monitora.\n",
    "\n",
    "**Amostra: 30 alturas coletadas**\n",
    "\n",
    "(165, 157, 163, 170, 167, 161, 160, 170, 157, 160, 157, 168, 162, 170, 167, 165, 166, 158, 174, 169, 163, 174, 162, 170, 155, 154, 158, 160, 166, 160)\n",
    "\n",
    "\n",
    "\n",
    "\n"
   ]
  },
  {
   "cell_type": "code",
   "execution_count": 3,
   "metadata": {},
   "outputs": [
    {
     "name": "stdout",
     "output_type": "stream",
     "text": [
      "A altura média da turma on-35 é: 163.60 anos\n"
     ]
    }
   ],
   "source": [
    "import numpy as np\n",
    "\n",
    "#Criando uma váriavel altura, para calcular a altura média da turma on35\n",
    "altura_media_turma_on35 = np.array([165, 157, 163, 170, 167, 161, 160, 170, 157, 160, 157, 168, 162, 170, 167, 165, 166, 158, 174, 169, 163, 174, 162, 170, 155, 154, 158, 160, 166, 160])\n",
    "\n",
    "#Cálculo médio altura -turma on-35\n",
    "media_altura = np.mean(altura_media_turma_on35)\n",
    "\n",
    "#Imprimindo a média da altura\n",
    "print(f\"A altura média da turma on-35 é: {media_altura:.2f} anos\")\n"
   ]
  },
  {
   "cell_type": "markdown",
   "metadata": {},
   "source": [
    "\n",
    "**2) Exercício: Teste z para Altura Média da Turma**"
   ]
  },
  {
   "cell_type": "code",
   "execution_count": 4,
   "metadata": {},
   "outputs": [
    {
     "name": "stdout",
     "output_type": "stream",
     "text": [
      "Teste z para uma amostra:\n",
      "z-statistic: 3.5569, p-value: 0.0004\n"
     ]
    }
   ],
   "source": [
    "#Importando as bibliotecas \n",
    "#Coleta de dados de idade das estudantes da turma on35 - Amostra = 30 alturas\n",
    "import numpy as np\n",
    "from statsmodels.stats.weightstats import ztest\n",
    "\n",
    "# Dados da amostra\n",
    "altura_turma = np.array([165, 157, 163, 170, 167, 161, 160, 170, 157, 160, 157, 168, 162, 170, 167, 165, 166, 158, 174, 169, 163, 174, 162, 170, 155, 154, 158, 160, 166, 160])\n",
    "media_nacional = 160\n",
    "\n",
    "# Teste z para uma amostra\n",
    "z_statistic, p_value = ztest(altura_turma, value=media_nacional)\n",
    "print(\"Teste z para uma amostra:\")\n",
    "print(f\"z-statistic: {z_statistic:.4f}, p-value: {p_value:.4f}\")"
   ]
  },
  {
   "cell_type": "markdown",
   "metadata": {},
   "source": [
    "\n",
    "**Perguntas:**\n",
    "\n",
    "\n",
    "**3) Calcule a estatística *z* e o valor *p* para verificar se a altura média da turma é significativamente diferente de 160 cm.**\n",
    "\n",
    "**Resultados: Teste z para uma amostra:**\n",
    "\n",
    "**z-statistic: 3.5569**\n",
    "\n",
    "**p-value: 0.0004**\n",
    "\n",
    "\n",
    "O experimento consiste em observar uma amostra (alturas das alunas-turma on-35), para analisar a média de altura das estudantes da turma on-35, com o objetivo de constatar se é diferente de 160 cm. \n",
    "Foram analisadas 30 alturas.\n"
   ]
  },
  {
   "cell_type": "markdown",
   "metadata": {},
   "source": [
    "**4) Interprete os resultados - Preciso saber se rejeitou ou não a hipótese nula.**\n",
    "\n",
    "**Formulando as Hipósteses:**\n",
    "\n",
    "Hipótese Nula (H₀): A altura média da turma on-35 é igual a média nacional da população feminina brasileira de 160 cm.\n",
    "\n",
    "Hipótese Alternativa (H₁) - A altura média da turma on-35 é diferente da média nacional da população feminina brasileira de 160 cm.\n",
    "\n",
    "\n",
    "**Estatística z (z-statistic): 3.5569**\n",
    "\n",
    "A estatística z de 3.5569 indica quantos desvios padrão a média da amostra (altura média da turma) está distante da média de referência (160 cm). \n",
    "\n",
    "Nesse caso, o valor positivo sugere que a média da turma está acima da média nacional.\n",
    "\n",
    "**Interpretação do valor p**\n",
    "\n",
    "Com base na estatística z de 3.5569, o valor p obtido é 0.0004, o que significa que a probabilidade de observar uma diferença tão grande ou maior, se a média da turma fosse 160 cm, é muito baixa (0.04%).\n",
    "\n",
    "**Conclusão:**\n",
    "\n",
    "O nível de significância utilizado é 0,05, o valor p obtido é 0.0004 é menor, que o nível de significância, sendo assim, *rejeitamos* a hipótese nula (H₀). \n",
    "\n",
    "Podemos afirmar que há evidências estatísticas de que a altura média da turma é significativamente diferente de 160 cm.\n",
    "\n",
    "A probabilidade de que a média seja de fato 160 cm é muito baixa, e, com 95% de confiança, podemos dizer que a altura média da turma on-35 é diferente da média nacional."
   ]
  },
  {
   "cell_type": "markdown",
   "metadata": {},
   "source": []
  }
 ],
 "metadata": {
  "kernelspec": {
   "display_name": "Python 3",
   "language": "python",
   "name": "python3"
  },
  "language_info": {
   "codemirror_mode": {
    "name": "ipython",
    "version": 3
   },
   "file_extension": ".py",
   "mimetype": "text/x-python",
   "name": "python",
   "nbconvert_exporter": "python",
   "pygments_lexer": "ipython3",
   "version": "3.11.4"
  }
 },
 "nbformat": 4,
 "nbformat_minor": 2
}
