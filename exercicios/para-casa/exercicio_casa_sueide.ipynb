{
 "cells": [
  {
   "cell_type": "code",
   "execution_count": 1,
   "metadata": {},
   "outputs": [],
   "source": [
    "import numpy as np\n",
    "from statsmodels.stats.weightstats import ztest"
   ]
  },
  {
   "cell_type": "code",
   "execution_count": 2,
   "metadata": {},
   "outputs": [],
   "source": [
    "#Dados da amostra, altura das alunas\n",
    "[165, 157, 163, 170, 167, 161, 160, 170, 157, 160, 157, 168, 162, 170, 167, 165, 166, 158, 174, 169, 163, 174, 162, 170, 155, 154, 158, 160, 166]\n",
    "altura_turma = np.array([165, 157, 163, 170, 167, 161, 160, 170, 157, 160, 157, 168, 162, 170, 167, 165, 166, 158, 174, 169, 163, 174, 162, 170, 155, 154, 158, 160, 166])\n",
    "media_nacional = 161"
   ]
  },
  {
   "cell_type": "code",
   "execution_count": 3,
   "metadata": {},
   "outputs": [
    {
     "name": "stdout",
     "output_type": "stream",
     "text": [
      "Teste Z para a amostra:\n",
      "z-statistic: 2.6201, p-value: 0.0088\n"
     ]
    }
   ],
   "source": [
    "#Calcule a estatística z e o valor p para verificar se a altura média da turma é significativamente diferente de 161 cm.\n",
    "z_statistic, p_value = ztest(altura_turma, value=media_nacional)\n",
    "print(\"Teste Z para a amostra:\")\n",
    "print(f\"z-statistic: {z_statistic:.4f}, p-value: {p_value:.4f}\")"
   ]
  },
  {
   "cell_type": "code",
   "execution_count": 4,
   "metadata": {},
   "outputs": [],
   "source": [
    "#Conclusão e Interpretação\n",
    "#Nível de significância: utilizando o nível significância comurmente utilizado em testes estatísticos, sendo 0.05 (ou 5%).\n",
    "#Valor P: O valor p (p-value) sendo 0.0088  \n",
    "#Conclusão: Logo o valor p (0.0088) é menor do que 0.05. Por isso, rejeitamos a hipótese nula.\n",
    "#A minha interpretação foi de que a altura média da amostra de alturas da turma é significamente diferente de 161cm. Indicando que há evidências estatísticas para afirmar que a altura média da turma difere da altura média nacional que é de 161cm"
   ]
  }
 ],
 "metadata": {
  "kernelspec": {
   "display_name": "Python 3",
   "language": "python",
   "name": "python3"
  },
  "language_info": {
   "codemirror_mode": {
    "name": "ipython",
    "version": 3
   },
   "file_extension": ".py",
   "mimetype": "text/x-python",
   "name": "python",
   "nbconvert_exporter": "python",
   "pygments_lexer": "ipython3",
   "version": "3.12.5"
  }
 },
 "nbformat": 4,
 "nbformat_minor": 2
}
