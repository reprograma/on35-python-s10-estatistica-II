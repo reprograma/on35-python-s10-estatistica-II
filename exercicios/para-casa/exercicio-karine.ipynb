{
 "cells": [
  {
   "cell_type": "markdown",
   "metadata": {},
   "source": [
    "**Exercício S10:** \n",
    "\n",
    "Verificar se a altura média da turma é significativamente diferente de 161 cm"
   ]
  },
  {
   "cell_type": "markdown",
   "metadata": {},
   "source": [
    "**Dados da Amostra:**\n",
    "\n",
    "    Altura da turma (em cm): [165, 157, 163, 170, 167, 161, 160, 170, 157, 160, 157, 168], 162, 170, 167, 165, 166, 158, 174, 169, 163, 174, 162, 170, 155, 154, 158, 160, 166, 160]"
   ]
  },
  {
   "cell_type": "markdown",
   "metadata": {},
   "source": [
    "**Hipótese Nula (H0):**\n",
    "\n",
    "Não há diferença entre a média da amostra e a média da população (161 cm). A média da altura das alunas dessa turma é 161 cm.\n",
    "\n",
    "**Hipótese Alternativa (H1):**\n",
    "\n",
    "Existe uma diferença entre a média da amostra e a média da população. A média da altura das alunas dessa turma não é 161 cm."
   ]
  },
  {
   "cell_type": "markdown",
   "metadata": {},
   "source": [
    "TesteZ"
   ]
  },
  {
   "cell_type": "code",
   "execution_count": 2,
   "metadata": {},
   "outputs": [
    {
     "name": "stdout",
     "output_type": "stream",
     "text": [
      "Teste Z para uma amostra:\n",
      "z-statistic: 2.568889, p-value: 0.0102\n"
     ]
    }
   ],
   "source": [
    "import numpy as np \n",
    "from statsmodels.stats.weightstats import ztest\n",
    "altura_on_35 = np.array([165, 157, 163, 170, 167, 161, 160, 170, 157, 160, 157, 168, 162, 170, 167, 165, 166, 158, 174, 169, 163, 174, 162, 170, 155, 154, 158, 160, 166, 160])\n",
    "media_nacional = 161\n",
    "\n",
    "z_statistic, p_value = ztest(altura_on_35, value= media_nacional)\n",
    "print(\"Teste Z para uma amostra:\")\n",
    "print(f\"z-statistic: {z_statistic:4f}, p-value: {p_value:.4f}\")"
   ]
  },
  {
   "cell_type": "markdown",
   "metadata": {},
   "source": [
    "**Análise dos resultados:**\n",
    "\n",
    "Estatística Z: 2.56889\n",
    "Valor p: 0.0102\n",
    "\n",
    "Dado que o nível de significância é 0,05 e o p-value obtido é 0.0102, rejeitamos a hipótese nula. A média da altura das alunas da turma On 35 é diferente da média nacional de 161 cm."
   ]
  }
 ],
 "metadata": {
  "kernelspec": {
   "display_name": "Python 3",
   "language": "python",
   "name": "python3"
  },
  "language_info": {
   "codemirror_mode": {
    "name": "ipython",
    "version": 3
   },
   "file_extension": ".py",
   "mimetype": "text/x-python",
   "name": "python",
   "nbconvert_exporter": "python",
   "pygments_lexer": "ipython3",
   "version": "3.12.5"
  }
 },
 "nbformat": 4,
 "nbformat_minor": 2
}
