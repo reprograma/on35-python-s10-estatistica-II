{
 "cells": [
  {
   "cell_type": "markdown",
   "metadata": {},
   "source": [
    "**Exercício** teste z"
   ]
  },
  {
   "cell_type": "markdown",
   "metadata": {},
   "source": [
    "**A altura média da turma On35 é diferente da altura média nacional da população feminina brasileira?**"
   ]
  },
  {
   "cell_type": "markdown",
   "metadata": {},
   "source": [
    "**Hipótese Nula (H0):**\n",
    "\n",
    "Não há diferença entre a média da amostra e a média da população (161 cm). A média da altura das alunas dessa turma é 161 cm.\n",
    "\n",
    "**Hipótese Alternativa (H1):**\n",
    "\n",
    "Existe uma diferença entre a média da amostra e a média da população. A média da altura das alunas dessa turma não é 161 cm."
   ]
  },
  {
   "cell_type": "markdown",
   "metadata": {},
   "source": [
    "**Dados da amostra**\n",
    "[157, 160, 157, 163, 170, 167, 174, 160, 169, 158, 161, 168, 162, 167, 167, 165, 170, 170]"
   ]
  },
  {
   "cell_type": "markdown",
   "metadata": {},
   "source": [
    "**Teste**"
   ]
  },
  {
   "cell_type": "code",
   "execution_count": 1,
   "metadata": {},
   "outputs": [
    {
     "name": "stdout",
     "output_type": "stream",
     "text": [
      "Teste z para uma amostra:\n",
      "z-statistic: 3.0776, p-value: 0.0021\n"
     ]
    }
   ],
   "source": [
    "import numpy as np\n",
    "from statsmodels.stats.weightstats import ztest\n",
    "\n",
    "altura_turma_on35 = np.array([157, 160, 157, 163, 170, 167, 174, 160, 169, 158, 161, 168, 162, 167, 167, 165, 170, 170])\n",
    "media_nacional = 161\n",
    "\n",
    "z_statistic, p_value = ztest(altura_turma_on35, value=media_nacional)\n",
    "print(\"Teste z para uma amostra:\")\n",
    "print(f\"z-statistic: {z_statistic:.4f}, p-value: {p_value:.4f}\")"
   ]
  },
  {
   "cell_type": "markdown",
   "metadata": {},
   "source": [
    "**Interpretação dos resultados**\n",
    "\n",
    "\n",
    "Estatística z: 3.0776\n",
    "\n",
    "Valor p (p-value): 0.0021\n",
    "\n",
    "\n",
    "Para o nível de Significânci 0.05 (ou 5%) \n",
    "O valor p 0.0021 é menor que 0.05. Então, rejeitamos a hipótese nula.\n",
    "\n",
    "\n",
    "Sendo assim, conclui-se que a altura média da amostra de alturas dessa turma é significativamente diferente de 161 cm. Então, existem evidências estatisticamente significativas para afirmar que a altura média da turma difere da altura média nacional brasileira feminina de 161 cm.\n"
   ]
  }
 ],
 "metadata": {
  "kernelspec": {
   "display_name": "Python 3",
   "language": "python",
   "name": "python3"
  },
  "language_info": {
   "codemirror_mode": {
    "name": "ipython",
    "version": 3
   },
   "file_extension": ".py",
   "mimetype": "text/x-python",
   "name": "python",
   "nbconvert_exporter": "python",
   "pygments_lexer": "ipython3",
   "version": "3.12.5"
  }
 },
 "nbformat": 4,
 "nbformat_minor": 2
}
