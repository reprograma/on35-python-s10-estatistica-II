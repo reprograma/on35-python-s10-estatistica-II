{
 "cells": [
  {
   "cell_type": "markdown",
   "metadata": {},
   "source": [
    "### Teste de Hipóteses:\n",
    "\n",
    "**Cenário**\n",
    "\n",
    "Queremos avaliar se a altura média da turma on35 é significativamente diferente da altura média nacional da população feminina brasileira que é igual a 161 cm. \n",
    "\n",
    "**Hipótese Nula (H0):**\n",
    "\n",
    "Suposição inicial é de que existe não há uma diferença significativa entre a média da amostra (média de altura das alunas da turma On35) e o valor de referência (média de altura feminina nacional).\n",
    "\n",
    "    H0​: A altura média dos alunos da turma é igual à altura média nacional. \n",
    "    H0: μ = 161\n",
    "\n",
    "**Hipótese Alternativa (H1):**\n",
    "\n",
    "Afirmação que se deseja testar que sugere é que existe uma diferença significativa entre a média da amostra e o valor de referência.\n",
    "\n",
    "      H1​: A altura média da turma On35 é diferente da altura média nacional.\n",
    "      H1: μ ≠ 161\n",
    "\n",
    "**Dsdos da amostra:**\n",
    "\n",
    "Alturas das alunas (em cm): [165, 157, 163, 170, 167, 161, 160, 170, 157, 160, 157, 168, 162, 170, 167, 165, 166, 158, 174, 169, 163, 174, 162, 170, 155, 154, 158]\n"
   ]
  },
  {
   "cell_type": "code",
   "execution_count": 15,
   "metadata": {},
   "outputs": [
    {
     "name": "stdout",
     "output_type": "stream",
     "text": [
      "Teste z para uma amostra:\n",
      "z-statistic: 2.5116, p-value: 0.0120\n",
      "O nível de significância é de: 0.05\n",
      "Rejeitamos a hipótese nula. A altura média da turma é significativamente diferente de 161 cm.\n"
     ]
    }
   ],
   "source": [
    "import numpy as np\n",
    "from statsmodels.stats.weightstats import ztest\n",
    "\n",
    "# Dados da amostra\n",
    "altura_turma = np.array([165, 157, 163, 170, 167, 161, 160, 170, 157, 160, 157, 168, 162, 170, 167, 165, 166, 158, 174, 169, 163, 174, 162, 170, 155, 154, 158])\n",
    "media_nacional = 161\n",
    "\n",
    "# Nível de significância\n",
    "alpha = 0.05\n",
    "\n",
    "# Teste z para uma amostra\n",
    "z_statistic, p_value = ztest(altura_turma, value=media_nacional)\n",
    "print(\"Teste z para uma amostra:\")\n",
    "print(f\"z-statistic: {z_statistic:.4f}, p-value: {p_value:.4f}\")\n",
    "\n",
    "print('O nível de significância é de:', alpha)\n",
    "\n",
    "if p_value < alpha:\n",
    "    print('Rejeitamos a hipótese nula. A altura média da turma é significativamente diferente de 161 cm.')\n",
    "else:\n",
    "    print('Não rejeitamos a hipótese nula. Não há evidências suficientes para afirmar que a altura média da turma é diferente de 161 cm.')\n"
   ]
  },
  {
   "cell_type": "markdown",
   "metadata": {},
   "source": [
    "**Conclusão**\n",
    "\n",
    "O valor comunalmente usado para o nível de significância é igual a 0.05 (ou 5%). \n",
    "Se o valor p for menor que 0.05 se rejeita a hipótese nula.\n",
    "Como no nosso caso o valor p (0.0391) é menor que 0.05, rejeita-se a hipótese nula. \n",
    "Concluímos então que a altura média das alunas da turma On35 é significamente diferente da média de altura feminina brasileira."
   ]
  }
 ],
 "metadata": {
  "kernelspec": {
   "display_name": "Python 3",
   "language": "python",
   "name": "python3"
  },
  "language_info": {
   "codemirror_mode": {
    "name": "ipython",
    "version": 3
   },
   "file_extension": ".py",
   "mimetype": "text/x-python",
   "name": "python",
   "nbconvert_exporter": "python",
   "pygments_lexer": "ipython3",
   "version": "3.12.4"
  }
 },
 "nbformat": 4,
 "nbformat_minor": 2
}
