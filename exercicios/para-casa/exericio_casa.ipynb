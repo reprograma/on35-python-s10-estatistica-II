{
 "cells": [
  {
   "cell_type": "code",
   "execution_count": 1,
   "metadata": {},
   "outputs": [],
   "source": [
    "import numpy as np"
   ]
  },
  {
   "cell_type": "code",
   "execution_count": 2,
   "metadata": {},
   "outputs": [],
   "source": [
    "from statsmodels.stats.weightstats import ztest"
   ]
  },
  {
   "cell_type": "code",
   "execution_count": 8,
   "metadata": {},
   "outputs": [
    {
     "name": "stdout",
     "output_type": "stream",
     "text": [
      "Teste z para uma amostra:\n",
      "z-statistic: 2.6201\n",
      "p-value: 0.0088\n"
     ]
    }
   ],
   "source": [
    "\n",
    "\n",
    "# Dados da amostra\n",
    "altura_turma = np.array([165, 157, 163, 170, 167, 161, 160, 170, 157, 160, 157, 168, 162, 170, 167, 165, 166, 158, 174, 169, 163, 174, 162, 170, 155, 154, 158, 160, 166]) #29 ALUNAS \n",
    "media_nacional = 161\n",
    "alfa = 0.05\n",
    "# Teste z para uma amostra\n",
    "z_statistic, p_value = ztest(altura_turma, value=media_nacional)\n",
    "print(\"Teste z para uma amostra:\")\n",
    "print(f\"z-statistic: {z_statistic:.4f}\")\n",
    "print(f\"p-value: {p_value:.4f}\")"
   ]
  },
  {
   "cell_type": "code",
   "execution_count": 9,
   "metadata": {},
   "outputs": [
    {
     "name": "stdout",
     "output_type": "stream",
     "text": [
      "Rejeitamos a hipótese nula. Há evidências estatisticamente significativas para afirmar que a altura média da turma nao é igual à altura média nacional da população feminina brasileira.\n"
     ]
    }
   ],
   "source": [
    "if p_value < alfa:\n",
    "    print(\"Rejeitamos a hipótese nula. Há evidências estatisticamente significativas para afirmar que a altura média da turma nao é igual à altura média nacional da população feminina brasileira.\")\n",
    "else:\n",
    "    print(\"Não rejeitamos a hipótese nula. Não há evidências estatisticamente significativas para afirmar que a altura média da turma nao é igual à altura média nacional da população feminina brasileira.\")"
   ]
  },
  {
   "cell_type": "markdown",
   "metadata": {},
   "source": [
    "**Queremos avaliar se a altura média da turma on35 é significativamente diferente da altura média nacional da população feminina brasileira, que é de 160 cm.**\n",
    "\n",
    "**Hipótese Nula (H0):**\n",
    "H0​: A altura média da turma on 35 é igual à altura média nacional.\n",
    "H0:μ=160\n",
    "\n",
    "**Hipótese Alternativa (H1):**\n",
    "H1​: A altura média dos alunas da turma é diferente da altura média nacional.\n",
    "H1:μ≠160\n",
    "\n"
   ]
  },
  {
   "cell_type": "markdown",
   "metadata": {},
   "source": [
    "**A altura média da turma é significativamente diferente de 160 cm?** SIM\n",
    "\n",
    "\n",
    "**Conclusão:**\n",
    "\n",
    "O valor p (0.0088) é menor que 0.05. Portanto, rejeitamos a hipótese nula.\n",
    "\n",
    "**Interpretação Final:**\n",
    "\n",
    "A altura média da turma on35 nao é igual à altura média nacional da população feminina brasileira, que é de 160 cm.\n",
    " Em outras palavras, há evidências estatisticamente significativas para afirmar que a altura média da turma nao é igual à altura média nacional da população feminina brasileira."
   ]
  }
 ],
 "metadata": {
  "kernelspec": {
   "display_name": "Python 3",
   "language": "python",
   "name": "python3"
  },
  "language_info": {
   "codemirror_mode": {
    "name": "ipython",
    "version": 3
   },
   "file_extension": ".py",
   "mimetype": "text/x-python",
   "name": "python",
   "nbconvert_exporter": "python",
   "pygments_lexer": "ipython3",
   "version": "3.12.3"
  }
 },
 "nbformat": 4,
 "nbformat_minor": 2
}
