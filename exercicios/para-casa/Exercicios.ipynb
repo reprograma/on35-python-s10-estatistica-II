{
 "cells": [
  {
   "cell_type": "markdown",
   "metadata": {},
   "source": [
    "# Exercício de Casa 🏠 \n",
    "\n",
    "## Teste de Hipótese\n",
    "\n",
    "Coletar a altura média de cada uma das alunas, excluindo as alturas da\n",
    " Professora, Facilitaroa e Monitora.\n",
    "\n",
    "**Exercício: Teste z para Altura Média da Turma**\n",
    "\n",
    "**Cenário:**\n",
    "\n",
    "Queremos avaliar se a altura média da turma on35 é significativamente diferente da altura média nacional da população feminina brasileira, que é de 160 cm. \n",
    "\n",
    "**Objetivo:**\n",
    "\n",
    "    Verificar se a altura média da turma é significativamente diferente de 160 cm.\n",
    "\n",
    "**Dados da Amostra:**\n",
    "\n",
    "    Altura da turma (em cm): vamos criar juntas na aula...\n",
    "\n",
    "\n",
    "**Perguntas:**\n",
    "\n",
    "\n",
    "Calcule a estatística *z* e o valor *p* para verificar se a altura média da turma é significativamente diferente de 160 cm.\n",
    "\n",
    "**Interprete os resultados:** Preciso saber se rejeitou ou não a hipótese nula."
   ]
  },
  {
   "cell_type": "markdown",
   "metadata": {},
   "source": [
    "H0 = A altura média das alunas da turma é diferente da média nacional da população feminina brasileira \n",
    "H1 = A altura média das alunas da turma é igual a da média nacional da população feminina brasileira "
   ]
  },
  {
   "cell_type": "code",
   "execution_count": 1,
   "metadata": {},
   "outputs": [
    {
     "name": "stdout",
     "output_type": "stream",
     "text": [
      "Teste z para uma amostra:\n",
      "z-statistic: 3.5819, p-value: 0.0003\n"
     ]
    }
   ],
   "source": [
    "import numpy as np\n",
    "from statsmodels.stats.weightstats import ztest\n",
    "\n",
    "# Dados da amostra\n",
    "altura_turma = np.array([165,157,163,170,167,161,160,170,157,160,157,168,162,170,167,165,166,158,174,169,163,174,162,170,155,154,158,160,166])\n",
    "media_nacional = 160\n",
    "\n",
    "# Teste z para uma amostra\n",
    "z_statistic, p_value = ztest(altura_turma, value=media_nacional)\n",
    "print(\"Teste z para uma amostra:\")\n",
    "print(f\"z-statistic: {z_statistic:.4f}, p-value: {p_value:.4f}\")"
   ]
  },
  {
   "cell_type": "markdown",
   "metadata": {},
   "source": [
    "z-statistic = 3.5819, ou seja, desvio padrão bem alto na média da altura das alunas comparadas a média nacional \n",
    "p-value = 0,0003, ou seja, valor muito abaixo de 5%, não rejeitamos H0 pois a altura das alunas realmente é diferente da média nacional. \n",
    "\n",
    "**Conclusão**\n",
    "A altura média da amostra de alturas da turma é significativamente diferente de 160 cm, pois o p-value da amostra foi menor que 5% e por isso não rejeitamos a hipotese nula. Em outras palavras, há evidências estat´titicas significativas para afirmar que a altura média da turma nacional de 160 cm. "
   ]
  }
 ],
 "metadata": {
  "kernelspec": {
   "display_name": "Python 3",
   "language": "python",
   "name": "python3"
  },
  "language_info": {
   "codemirror_mode": {
    "name": "ipython",
    "version": 3
   },
   "file_extension": ".py",
   "mimetype": "text/x-python",
   "name": "python",
   "nbconvert_exporter": "python",
   "pygments_lexer": "ipython3",
   "version": "3.12.3"
  }
 },
 "nbformat": 4,
 "nbformat_minor": 2
}
